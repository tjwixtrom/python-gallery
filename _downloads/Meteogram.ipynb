{
  "cells": [
    {
      "cell_type": "code",
      "execution_count": null,
      "metadata": {
        "collapsed": false
      },
      "outputs": [],
      "source": [
        "%matplotlib inline"
      ]
    },
    {
      "cell_type": "markdown",
      "metadata": {},
      "source": [
        "\n# Surface Meteogram\n\n\nPlot a surface meteogram from METAR data available on the Unidata Thredds Server.\n\nPlot a four panel meteogram and use MetPy calculations to calculate or modify\nsome variables.\n\n"
      ]
    },
    {
      "cell_type": "markdown",
      "metadata": {},
      "source": [
        "Import appropriate libraries\n\n"
      ]
    },
    {
      "cell_type": "code",
      "execution_count": null,
      "metadata": {
        "collapsed": false
      },
      "outputs": [],
      "source": [
        "from datetime import datetime, timedelta\n\nfrom matplotlib.dates import AutoDateLocator, DateFormatter\nimport matplotlib.pyplot as plt\nimport metpy.calc as mpcalc\nfrom metpy.units import units\nfrom siphon.catalog import TDSCatalog\nfrom siphon.ncss import NCSS"
      ]
    },
    {
      "cell_type": "markdown",
      "metadata": {},
      "source": [
        "Begin Data Ingest\n-----------------\n\n"
      ]
    },
    {
      "cell_type": "code",
      "execution_count": null,
      "metadata": {
        "collapsed": false
      },
      "outputs": [],
      "source": [
        "# Request METAR data from TDS\nmetar = TDSCatalog('http://thredds.ucar.edu/thredds/catalog/nws/metar/ncdecoded/catalog.xml')\ndataset = list(metar.datasets.values())[0]\nprint(list(dataset.access_urls))"
      ]
    },
    {
      "cell_type": "markdown",
      "metadata": {},
      "source": [
        "What variables are available in dataset?\n\n"
      ]
    },
    {
      "cell_type": "code",
      "execution_count": null,
      "metadata": {
        "collapsed": false
      },
      "outputs": [],
      "source": [
        "# Access netcdf subset and use siphon to request data\nncss_url = dataset.access_urls['NetcdfSubset']\nncss = NCSS(ncss_url)\nprint(ncss.variables)"
      ]
    },
    {
      "cell_type": "markdown",
      "metadata": {},
      "source": [
        "Set query to get desired data from Thredds server\n\n"
      ]
    },
    {
      "cell_type": "code",
      "execution_count": null,
      "metadata": {
        "collapsed": false
      },
      "outputs": [],
      "source": [
        "# get current date and time\nnow = datetime.utcnow()\nnow = datetime(now.year, now.month, now.day, now.hour)\n\n# define time range you want the data for\nstart = now - timedelta(days=1)\nend = now\n\n# build the query\nquery = ncss.query()\nquery.lonlat_point(-90.08, 32.32)\nquery.time_range(start, end)\nquery.variables('air_temperature', 'dew_point_temperature', 'wind_speed',\n                'precipitation_amount_hourly', 'inches_ALTIM',\n                'air_pressure_at_sea_level', 'wind_from_direction')\nquery.accept('netcdf')\n\n# Get the netcdf dataset\ndata = ncss.get_data(query)\nprint(list(data.variables))"
      ]
    },
    {
      "cell_type": "markdown",
      "metadata": {},
      "source": [
        "Begin parsing out information from file including data\n\n"
      ]
    },
    {
      "cell_type": "code",
      "execution_count": null,
      "metadata": {
        "collapsed": false
      },
      "outputs": [],
      "source": [
        "# Get the station ID\nstation_id = data['station_id'][:].tostring()\nstation_id = station_id.decode('utf-8')\nprint(station_id)\n\n# Get time into a datetime object\ntime = [datetime.fromtimestamp(t) for t in data['time']]\ntime = sorted(time)\nprint(time)\n\ntemp = data.variables['air_temperature'][:] * units('degC')\ndewp = data.variables['dew_point_temperature'][:] * units('degC')\nslp = data.variables['inches_ALTIM'][:] * units('inHg')\nwspd = data.variables['wind_speed'][:] * units('m/s')\nwdir = data.variables['wind_from_direction'][:] * units('degree')"
      ]
    },
    {
      "cell_type": "markdown",
      "metadata": {},
      "source": [
        "Use MetPy Calculations to calculate RH\n--------------------------------------\n\n"
      ]
    },
    {
      "cell_type": "code",
      "execution_count": null,
      "metadata": {
        "collapsed": false
      },
      "outputs": [],
      "source": [
        "# Get ambient partial pressure, use to calculate mixing ratio\nes = mpcalc.saturation_vapor_pressure(dewp)\nmixr = mpcalc.mixing_ratio(es, slp)\n\n# Calculate vapor pressure\nvp = mpcalc.vapor_pressure(slp, mixr)\n\n# Calculate saturation vapor pressure\nsvp = mpcalc.saturation_vapor_pressure(temp)\n\n# Calculate relative humidity as a percentage\nrh = (vp / svp) * 100"
      ]
    },
    {
      "cell_type": "markdown",
      "metadata": {},
      "source": [
        "Make Meteogram Plot\n-------------------\n\n"
      ]
    },
    {
      "cell_type": "code",
      "execution_count": null,
      "metadata": {
        "collapsed": false
      },
      "outputs": [],
      "source": [
        "# Create the plots\nfig, (ax1, ax2, ax3, ax4) = plt.subplots(4, 1, sharex=True, figsize=(12, 10))\nax1.plot(time, temp, ls='solid', marker='o', color='tab:red', ms=5)\nax1.plot(time, dewp, ls='solid', color='tab:green', marker='*', ms=8)\nax1.fill_between(time, dewp.min().m-5, dewp.m, color='tab:green', alpha=0.5)\nax1.fill_between(time, dewp.m, temp.m, color='tab:red', alpha=0.5)\nax1.set_ylabel(r'$Temp\\/(^oC)$''\\n'r'$Dew\\/Point\\/Temp\\/(^oC)$', fontsize=12)\nax1.set_ylim(dewp.min().m - 5, temp.max().m + 5)\nax1.grid(True)\n\nax2.bar(time, wspd, width=.01, align='center', color='skyblue')\nax2.set_ylabel(r'$Wind\\/Speed\\/(m/s)$', fontsize=12)\nax2b = ax2.twinx()\nax2b.plot(time, wdir, marker='d', ls='None')\nax2b.set_ylim(-20, 360)\nax2b.set_ylabel(r'$Wind\\ Dir\\/(^{o})$')\nax2.grid(True)\n\nax3.plot(time, rh, color='darkgreen', marker='^')\nax3.set_ylabel(r'$Relative\\/Humidity\\/(\\%)$', fontsize=12)\nax3.fill_between(time, 0, rh, color='palegreen')\nax3.set_ylim(0, 100)\nax3.grid(True)\n\nax4.plot(time, slp, ls='--', color='brown', lw=3)\nax4.set_ylabel(r'$Pressure\\/(in-Hg)$')\nax4.set_ylim(slp.min().m-0.05, slp.max().m+0.05)\nax4.grid(True)\n\nlocator = AutoDateLocator()\nfmt = DateFormatter('%H:%M')\n\nax1.xaxis.set_major_locator(locator)\nax1.xaxis.set_major_formatter(fmt)\nax1.autoscale_view()\nax1.set_title('Site: {}     Date: {:%Y/%m/%d}'.format(station_id, time[0]), fontsize=16)\nax4.set_xlabel(r'$Hour\\/of\\/day$', fontsize=14)\nfig.autofmt_xdate()\nplt.show()"
      ]
    }
  ],
  "metadata": {
    "kernelspec": {
      "display_name": "Python 3",
      "language": "python",
      "name": "python3"
    },
    "language_info": {
      "codemirror_mode": {
        "name": "ipython",
        "version": 3
      },
      "file_extension": ".py",
      "mimetype": "text/x-python",
      "name": "python",
      "nbconvert_exporter": "python",
      "pygments_lexer": "ipython3",
      "version": "3.6.1"
    }
  },
  "nbformat": 4,
  "nbformat_minor": 0
}