{
  "cells": [
    {
      "cell_type": "code",
      "execution_count": null,
      "metadata": {
        "collapsed": false
      },
      "outputs": [],
      "source": [
        "%matplotlib inline"
      ]
    },
    {
      "cell_type": "markdown",
      "metadata": {},
      "source": [
        "\n# Geostrophic and Ageostrophic Wind\n\n\nPlot a 1000-hPa map calculating the geostrophic from MetPy and finding the\nageostrophic wind from the total wind and the geostrophic wind.\n\nThis uses the geostrophic wind calculation from `metpy.calc` to find\nthe geostrophic wind, then performs the simple subtraction to find the ageostrophic\nwind. Currently, this needs an extra helper function to calculate\nthe distance between lat/lon grid points.\n\nAdditionally, we utilize the `ndimage.zoom` method for smoothing the 1000-hPa\nheight contours without smoothing the data.\n\n"
      ]
    },
    {
      "cell_type": "markdown",
      "metadata": {},
      "source": [
        "Imports\n\n"
      ]
    },
    {
      "cell_type": "code",
      "execution_count": null,
      "metadata": {
        "collapsed": false
      },
      "outputs": [],
      "source": [
        "from datetime import datetime\n\nimport cartopy.crs as ccrs\nimport cartopy.feature as cfeature\nimport matplotlib.pyplot as plt\nfrom metpy.calc import coriolis_parameter, geostrophic_wind\nfrom metpy.units import units\nfrom netCDF4 import num2date\nimport numpy as np\nimport scipy.ndimage as ndimage\nfrom siphon.ncss import NCSS"
      ]
    },
    {
      "cell_type": "markdown",
      "metadata": {},
      "source": [
        "Helper function to calculate distance between lat/lon\n-----------------------------------------------------\n\n"
      ]
    },
    {
      "cell_type": "code",
      "execution_count": null,
      "metadata": {
        "collapsed": false
      },
      "outputs": [],
      "source": [
        "def calc_dx_dy(longitude, latitude, shape='sphere', radius=6370997.):\n    \"\"\" This definition calculates the distance between grid points that are in\n        a latitude/longitude format.\n\n        Using pyproj GEOD; different Earth Shapes\n        https://jswhit.github.io/pyproj/pyproj.Geod-class.html\n\n        Common shapes: 'sphere', 'WGS84', 'GRS80'\n\n        Accepts, 1D or 2D arrays for latitude and longitude\n\n        Assumes [Y, X] for 2D arrays\n\n        Returns: dx, dy; 2D arrays of distances between grid points\n                 in the x and y direction with units of meters and sign of differencing\n    \"\"\"\n    import numpy as np\n    from metpy.units import units\n    from pyproj import Geod\n\n    if radius != 6370997.:\n        g = Geod(a=radius, b=radius)\n    else:\n        g = Geod(ellps=shape)\n\n    if latitude.ndim == 1:\n        longitude, latitude = np.meshgrid(longitude, latitude)\n\n    dy = np.zeros(latitude.shape)\n    dx = np.zeros(longitude.shape)\n\n    for i in range(longitude.shape[1]):\n        for j in range(latitude.shape[0]-1):\n            _, _, dy[j, i] = g.inv(longitude[j, i], latitude[j, i],\n                                   longitude[j+1, i], latitude[j+1, i])\n    dy[j+1, :] = dy[j, :]\n\n    for i in range(longitude.shape[1]-1):\n        for j in range(latitude.shape[0]):\n            _, _, dx[j, i] = g.inv(longitude[j, i], latitude[j, i],\n                                   longitude[j, i+1], latitude[j, i+1])\n    dx[:, i+1] = dx[:, i]\n\n    xdiff_sign = np.sign(longitude[0, 1] - longitude[0, 0])\n    ydiff_sign = np.sign(latitude[1, 0] - latitude[0, 0])\n    return xdiff_sign*dx*units.meter, ydiff_sign*dy*units.meter"
      ]
    },
    {
      "cell_type": "markdown",
      "metadata": {},
      "source": [
        "Set up access to the data\n\n"
      ]
    },
    {
      "cell_type": "code",
      "execution_count": null,
      "metadata": {
        "collapsed": false
      },
      "outputs": [],
      "source": [
        "# Create NCSS object to access the NetcdfSubset\nncss = NCSS('https://nomads.ncdc.noaa.gov/thredds/ncss/grid/gfs-004-anl/201608/20160822/'\n            'gfsanl_4_20160822_1800_003.grb2')\n\n# Create lat/lon box for location you want to get data for\nquery = ncss.query()\nquery.lonlat_box(north=50, south=30, east=-80, west=-115)\nquery.time(datetime(2016, 8, 22, 21))\n\n# Request data for geopotential height\nquery.variables('Geopotential_height', 'U-component_of_wind', 'V-component_of_wind')\nquery.vertical_level(100000)\ndata = ncss.get_data(query)\n\n# Pull out variables you want to use\nheight_var = data.variables['Geopotential_height']\nu_wind_var = data.variables['U-component_of_wind']\nv_wind_var = data.variables['V-component_of_wind']\n\n# Find the name of the time coordinate\nfor name in height_var.coordinates.split():\n    if name.startswith('time'):\n        time_var_name = name\n        break\ntime_var = data.variables[time_var_name]\n\nlat_var = data.variables['lat']\nlon_var = data.variables['lon']\n\n# Get actual data values and remove any size 1 dimensions\nlat = lat_var[:].squeeze()\nlon = lon_var[:].squeeze()\nheight = height_var[0, 0, :, :].squeeze()\nu_wind = u_wind_var[0, 0, :, :].squeeze() * units('m/s')\nv_wind = v_wind_var[0, 0, :, :].squeeze() * units('m/s')\n\n# Convert number of hours since the reference time into an actual date\ntime = num2date(time_var[:].squeeze(), time_var.units)\n\n# Combine 1D latitude and longitudes into a 2D grid of locations\nlon_2d, lat_2d = np.meshgrid(lon, lat)\n\n# Smooth height data\nheight = ndimage.gaussian_filter(height, sigma=1.5, order=0)\n\n# Set up some constants based on our projection, including the Coriolis parameter and\n# grid spacing, converting lon/lat spacing to Cartesian\nf = coriolis_parameter(np.deg2rad(lat_2d)).to('1/s')\ndx, dy = calc_dx_dy(lon_2d, lat_2d)\n\n# In MetPy 0.5, geostrophic_wind() assumes the order of the dimensions is (X, Y),\n# so we need to transpose from the input data, which are ordered lat (y), lon (x).\n# Once we get the components,transpose again so they match our original data.\ngeo_wind_u, geo_wind_v = geostrophic_wind(height.T * units.m, f.T, dx.T, dy.T)\ngeo_wind_u = geo_wind_u.T\ngeo_wind_v = geo_wind_v.T\n\n# Calculate ageostrophic wind components\nageo_wind_u = u_wind - geo_wind_u\nageo_wind_v = v_wind - geo_wind_v\n\n# Create new figure\nfig = plt.figure(figsize=(15, 10), facecolor='black')\n\n# Add the map and set the extent\nax = plt.axes(projection=ccrs.PlateCarree())\nax.set_extent([-105., -93., 35., 43.])\nax.background_patch.set_fill(False)\n\n# Add state boundaries to plot\nstates_provinces = cfeature.NaturalEarthFeature(category='cultural',\n                                                name='admin_1_states_provinces_lines',\n                                                scale='50m', facecolor='none')\nax.add_feature(states_provinces, edgecolor='white', linewidth=2)\n\n# Add country borders to plot\ncountry_borders = cfeature.NaturalEarthFeature(category='cultural',\n                                               name='admin_0_countries',\n                                               scale='50m', facecolor='none')\nax.add_feature(country_borders, edgecolor='white', linewidth=2)\n\n# Contour the heights every 10 m\ncontours = np.arange(10, 200, 10)\n# Because we have a very local graphics area, the contours have joints\n# to smooth those out we can use `ndimage.zoom`\nzoom_500 = ndimage.zoom(height, 5)\nzlon = ndimage.zoom(lon_2d, 5)\nzlat = ndimage.zoom(lat_2d, 5)\nc = ax.contour(zlon, zlat, zoom_500, levels=contours,\n               colors='red', linewidth=4)\nax.clabel(c, fontsize=12, inline=1, inline_spacing=3, fmt='%i')\n\n# Set up parameters for quiver plot. The slices below are used to subset the data (here\n# taking every 4th point in x and y). The quiver_kwargs are parameters to control the\n# appearance of the quiver so that they stay consistent between the calls.\nquiver_slices = (slice(None, None, 2), slice(None, None, 2))\nquiver_kwargs = {'headlength': 4, 'headwidth': 3, 'angles': 'uv', 'scale_units': 'xy',\n                 'scale': 20}\n\n# Plot the wind vectors\nwind = ax.quiver(lon_2d[quiver_slices], lat_2d[quiver_slices],\n                 u_wind[quiver_slices], v_wind[quiver_slices],\n                 color='blue', **quiver_kwargs)\ngeo = ax.quiver(lon_2d[quiver_slices], lat_2d[quiver_slices],\n                geo_wind_u[quiver_slices], geo_wind_v[quiver_slices],\n                color='darkorchid', **quiver_kwargs)\nageo = ax.quiver(lon_2d[quiver_slices], lat_2d[quiver_slices],\n                 ageo_wind_u[quiver_slices], ageo_wind_v[quiver_slices],\n                 color='lime', **quiver_kwargs)\n\n# Add a title to the plot\nplt.title('1000mb Geopotential Heights(m), Wind(blue), Geostrophic Wind(purple), and \\n'\n          'Ageostrophic Wind(green) for {0:%d %B %Y %H:%MZ}'.format(time),\n          color='white', size=14)\nplt.tight_layout()\nplt.show()"
      ]
    }
  ],
  "metadata": {
    "kernelspec": {
      "display_name": "Python 3",
      "language": "python",
      "name": "python3"
    },
    "language_info": {
      "codemirror_mode": {
        "name": "ipython",
        "version": 3
      },
      "file_extension": ".py",
      "mimetype": "text/x-python",
      "name": "python",
      "nbconvert_exporter": "python",
      "pygments_lexer": "ipython3",
      "version": "3.6.1"
    }
  },
  "nbformat": 4,
  "nbformat_minor": 0
}