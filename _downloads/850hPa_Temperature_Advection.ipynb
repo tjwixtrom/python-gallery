{
  "cells": [
    {
      "cell_type": "code",
      "execution_count": null,
      "metadata": {
        "collapsed": false
      },
      "outputs": [],
      "source": [
        "%matplotlib inline"
      ]
    },
    {
      "cell_type": "markdown",
      "metadata": {},
      "source": [
        "\n# 850 hPa Temperature Advection\n\n\nPlot an 850 hPa map with calculating advection using MetPy.\n\nBeyond just plotting 850-hPa level data, this uses calculations from `metpy.calc` to find\nthe temperature advection. Currently, this needs an extra helper function to calculate\nthe distance between lat/lon grid points.\n\n"
      ]
    },
    {
      "cell_type": "markdown",
      "metadata": {},
      "source": [
        "Imports\n\n"
      ]
    },
    {
      "cell_type": "code",
      "execution_count": null,
      "metadata": {
        "collapsed": false
      },
      "outputs": [],
      "source": [
        "from datetime import datetime\n\nimport cartopy.crs as ccrs\nimport cartopy.feature as cfeature\nimport matplotlib.gridspec as gridspec\nimport matplotlib.pyplot as plt\nfrom metpy.calc import advection\nfrom metpy.units import units\nfrom netCDF4 import num2date\nimport numpy as np\nimport scipy.ndimage as ndimage\nfrom siphon.ncss import NCSS"
      ]
    },
    {
      "cell_type": "markdown",
      "metadata": {},
      "source": [
        "Helper functions\n\n"
      ]
    },
    {
      "cell_type": "code",
      "execution_count": null,
      "metadata": {
        "collapsed": false
      },
      "outputs": [],
      "source": [
        "# Helper function for finding proper time variable\ndef find_time_var(var, time_basename='time'):\n    for coord_name in var.coordinates.split():\n        if coord_name.startswith(time_basename):\n            return coord_name\n    raise ValueError('No time variable found for ' + var.name)\n\n\n# Helper function to calculate distance between lat/lon points\n# to be used in differencing calculations\ndef calc_dx_dy(longitude, latitude, shape='sphere', radius=6370997.):\n    \"\"\" This definition calculates the distance between grid points that are in\n        a latitude/longitude format.\n\n        Using pyproj GEOD; different Earth Shapes\n        https://jswhit.github.io/pyproj/pyproj.Geod-class.html\n\n        Common shapes: 'sphere', 'WGS84', 'GRS80'\n\n        Accepts, 1D or 2D arrays for latitude and longitude\n\n        Assumes [Y, X] for 2D arrays\n\n        Returns: dx, dy; 2D arrays of distances between grid points\n                 in the x and y direction with units of meters and sign of differencing\n    \"\"\"\n    import numpy as np\n    from metpy.units import units\n    from pyproj import Geod\n\n    if radius != 6370997.:\n        g = Geod(a=radius, b=radius)\n    else:\n        g = Geod(ellps=shape)\n\n    if latitude.ndim == 1:\n        longitude, latitude = np.meshgrid(longitude, latitude)\n\n    dy = np.zeros(latitude.shape)\n    dx = np.zeros(longitude.shape)\n\n    for i in range(longitude.shape[1]):\n        for j in range(latitude.shape[0]-1):\n            _, _, dy[j, i] = g.inv(longitude[j, i], latitude[j, i],\n                                   longitude[j+1, i], latitude[j+1, i])\n    dy[j+1, :] = dy[j, :]\n\n    for i in range(longitude.shape[1]-1):\n        for j in range(latitude.shape[0]):\n            _, _, dx[j, i] = g.inv(longitude[j, i], latitude[j, i],\n                                   longitude[j, i+1], latitude[j, i+1])\n    dx[:, i+1] = dx[:, i]\n\n    xdiff_sign = np.sign(longitude[0, 1] - longitude[0, 0])\n    ydiff_sign = np.sign(latitude[1, 0] - latitude[0, 0])\n    return xdiff_sign*dx*units.meter, ydiff_sign*dy*units.meter"
      ]
    },
    {
      "cell_type": "markdown",
      "metadata": {},
      "source": [
        "Create NCSS object to access the NetcdfSubset\n---------------------------------------------\nData from NOMADS GFS 0.5 deg Analysis Archive\nhttps://www.ncdc.noaa.gov/data-access/model-data/model-datasets/global-forcast-system-gfs\n\n"
      ]
    },
    {
      "cell_type": "code",
      "execution_count": null,
      "metadata": {
        "collapsed": false
      },
      "outputs": [],
      "source": [
        "dt = datetime(2017, 4, 5, 12)\nncss = NCSS('https://nomads.ncdc.noaa.gov/thredds/ncss/grid/gfs-004-anl/'\n            '{0:%Y%m}/{0:%Y%m%d}/gfsanl_4_{0:%Y%m%d}_{0:%H}00_000.grb2'.format(dt))\n\n# Create lat/lon box for location you want to get data for\nquery = ncss.query().time(dt)\nquery.lonlat_box(north=65, south=15, east=310, west=220)\nquery.accept('netcdf4')\n\n# Request data for vorticity\nquery.variables('Geopotential_height', 'Temperature',\n                'U-component_of_wind', 'V-component_of_wind')\ndata = ncss.get_data(query)\n\n# Pull out variables you want to use\nhght_var = data.variables['Geopotential_height']\ntemp_var = data.variables['Temperature']\nu_wind_var = data.variables['U-component_of_wind']\nv_wind_var = data.variables['V-component_of_wind']\ntime_var = data.variables[find_time_var(temp_var)]\nlat_var = data.variables['lat']\nlon_var = data.variables['lon']\n\n# Get actual data values and remove any size 1 dimensions\nlat = lat_var[:].squeeze()\nlon = lon_var[:].squeeze()\nhght = hght_var[:].squeeze()\ntemp = temp_var[:].squeeze() * units.K\nu_wind = u_wind_var[:].squeeze() * units('m/s')\nv_wind = v_wind_var[:].squeeze() * units('m/s')\n\n# Convert number of hours since the reference time into an actual date\ntime = num2date(time_var[:].squeeze(), time_var.units)\n\nlev_850 = np.where(data.variables['pressure'][:] == 850*100)[0][0]\nhght_850 = hght[lev_850]\ntemp_850 = temp[lev_850]\nu_wind_850 = u_wind[lev_850]\nv_wind_850 = v_wind[lev_850]\n\n# Combine 1D latitude and longitudes into a 2D grid of locations\nlon_2d, lat_2d = np.meshgrid(lon, lat)\n# Gridshift for barbs\nlon_2d[lon_2d > 180] = lon_2d[lon_2d > 180] - 360"
      ]
    },
    {
      "cell_type": "markdown",
      "metadata": {},
      "source": [
        "Begin data calculations\n-----------------------\n\n"
      ]
    },
    {
      "cell_type": "code",
      "execution_count": null,
      "metadata": {
        "collapsed": false
      },
      "outputs": [],
      "source": [
        "# Use helper function defined above to calculate distance\n# between lat/lon grid points\ndx, dy = calc_dx_dy(lon_var, lat_var)\n\n# Calculate temperature advection using metpy function\nadv = advection(temp_850.T * units.kelvin, [u_wind_850.T, v_wind_850.T],\n                (dx.T, dy.T)).T * units('K/sec')\n\n# Smooth heights and advection a little\n# Be sure to only put in a 2D lat/lon or Y/X array for smoothing\nZ_850 = ndimage.gaussian_filter(hght_850, sigma=3, order=0) * units.meter\nadv = ndimage.gaussian_filter(adv, sigma=3, order=0) * units('K/sec')"
      ]
    },
    {
      "cell_type": "markdown",
      "metadata": {},
      "source": [
        "Begin map creation\n------------------\n\n"
      ]
    },
    {
      "cell_type": "code",
      "execution_count": null,
      "metadata": {
        "collapsed": false
      },
      "outputs": [],
      "source": [
        "# Set Projection of Data\ndatacrs = ccrs.PlateCarree()\n\n# Set Projection of Plot\nplotcrs = ccrs.LambertConformal(central_latitude=[30, 60], central_longitude=-100)\n\n# Create new figure\nfig = plt.figure(figsize=(11, 8.5))\ngs = gridspec.GridSpec(2, 1, height_ratios=[1, .02], bottom=.07, top=.99,\n                       hspace=0.01, wspace=0.01)\n\n# Add the map and set the extent\nax = plt.subplot(gs[0], projection=plotcrs)\nplt.title('850mb Temperature Advection for {0:%d %B %Y %H:%MZ}'.format(time), fontsize=16)\nax.set_extent([235., 290., 20., 55.])\n\n# Add state boundaries to plot\nstates_provinces = cfeature.NaturalEarthFeature(category='cultural',\n                                                name='admin_1_states_provinces_lakes',\n                                                scale='50m', facecolor='none')\nax.add_feature(states_provinces, edgecolor='black', linewidth=1)\n\n# Add country borders to plot\ncountry_borders = cfeature.NaturalEarthFeature(category='cultural',\n                                               name='admin_0_countries',\n                                               scale='50m', facecolor='none')\nax.add_feature(country_borders, edgecolor='black', linewidth=1)\n\n# Plot Height Contours\nclev850 = np.arange(900, 3000, 30)\ncs = ax.contour(lon_2d, lat_2d, Z_850, clev850, colors='black', linewidths=1.5,\n                linestyles='solid', transform=datacrs)\nplt.clabel(cs, fontsize=10, inline=1, inline_spacing=10, fmt='%i',\n           rightside_up=True, use_clabeltext=True)\n\n# Plot Temperature Contours\nclevtemp850 = np.arange(-20, 20, 2)\ncs2 = ax.contour(lon_2d, lat_2d, temp_850.to(units('degC')), clevtemp850,\n                 colors='grey', linewidths=1.25, linestyles='dashed',\n                 transform=datacrs)\nplt.clabel(cs2, fontsize=10, inline=1, inline_spacing=10, fmt='%i',\n           rightside_up=True, use_clabeltext=True)\n\n# Plot Colorfill of Temperature Advection\ncint = np.arange(-8, 9)\ncf = ax.contourf(lon_2d, lat_2d, 3*adv.to(units('delta_degC/hour')), cint[cint != 0],\n                 extend='both', cmap='bwr', transform=datacrs)\ncax = plt.subplot(gs[1])\ncb = plt.colorbar(cf, cax=cax, orientation='horizontal', extendrect=True, ticks=cint)\ncb.set_label(r'$^{o}C/3h$', size='large')\n\n# Plot Wind Barbs\nax.barbs(lon_2d, lat_2d, u_wind_850.magnitude, v_wind_850.magnitude,\n         length=6, regrid_shape=20, pivot='middle', transform=datacrs)\n\ngs.tight_layout(fig)\nplt.show()"
      ]
    }
  ],
  "metadata": {
    "kernelspec": {
      "display_name": "Python 3",
      "language": "python",
      "name": "python3"
    },
    "language_info": {
      "codemirror_mode": {
        "name": "ipython",
        "version": 3
      },
      "file_extension": ".py",
      "mimetype": "text/x-python",
      "name": "python",
      "nbconvert_exporter": "python",
      "pygments_lexer": "ipython3",
      "version": "3.6.1"
    }
  },
  "nbformat": 4,
  "nbformat_minor": 0
}