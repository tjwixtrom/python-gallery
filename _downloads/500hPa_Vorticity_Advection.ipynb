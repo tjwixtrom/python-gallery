{
  "cells": [
    {
      "cell_type": "code",
      "execution_count": null,
      "metadata": {
        "collapsed": false
      },
      "outputs": [],
      "source": [
        "%matplotlib inline"
      ]
    },
    {
      "cell_type": "markdown",
      "metadata": {},
      "source": [
        "\n# 500 hPa Vorticity Advection\n\n\nPlot an 500-hPa map with calculating vorticity advection using MetPy calculations.\n\nBeyond just plotting 500-hPa level data, this uses calculations from `metpy.calc` to find\nthe vorticity and vorticity advection. Currently, this needs an extra helper function to\ncalculate the distance between lat/lon grid points.\n\n"
      ]
    },
    {
      "cell_type": "markdown",
      "metadata": {},
      "source": [
        "Imports\n\n"
      ]
    },
    {
      "cell_type": "code",
      "execution_count": null,
      "metadata": {
        "collapsed": false
      },
      "outputs": [],
      "source": [
        "from datetime import datetime\n\nimport cartopy.crs as ccrs\nimport cartopy.feature as cfeature\nimport matplotlib.gridspec as gridspec\nimport matplotlib.pylab as plt\nfrom metpy.calc import advection, coriolis_parameter, v_vorticity\nfrom metpy.units import units\nfrom netCDF4 import num2date\nimport numpy as np\nimport scipy.ndimage as ndimage\nfrom siphon.ncss import NCSS"
      ]
    },
    {
      "cell_type": "markdown",
      "metadata": {},
      "source": [
        "Helper function to calculate distance between lat/lon\n-----------------------------------------------------\n\n"
      ]
    },
    {
      "cell_type": "code",
      "execution_count": null,
      "metadata": {
        "collapsed": false
      },
      "outputs": [],
      "source": [
        "def calc_dx_dy(longitude, latitude, shape='sphere', radius=6370997.):\n    \"\"\" This definition calculates the distance between grid points that are in\n        a latitude/longitude format.\n\n        Using pyproj GEOD; different Earth Shapes\n        https://jswhit.github.io/pyproj/pyproj.Geod-class.html\n\n        Common shapes: 'sphere', 'WGS84', 'GRS80'\n\n        Accepts, 1D or 2D arrays for latitude and longitude\n\n        Assumes [Y, X] for 2D arrays\n\n        Returns: dx, dy; 2D arrays of distances between grid points\n                 in the x and y direction with units of meters\n    \"\"\"\n    import numpy as np\n    from metpy.units import units\n    from pyproj import Geod\n\n    if radius != 6370997.:\n        g = Geod(a=radius, b=radius)\n    else:\n        g = Geod(ellps=shape)\n\n    if latitude.ndim == 1:\n        longitude, latitude = np.meshgrid(longitude, latitude)\n\n    dy = np.zeros(latitude.shape)\n    dx = np.zeros(longitude.shape)\n\n    for i in range(longitude.shape[1]):\n        for j in range(latitude.shape[0]-1):\n            _, _, dy[j, i] = g.inv(longitude[j, i], latitude[j, i],\n                                   longitude[j+1, i], latitude[j+1, i])\n    dy[j+1, :] = dy[j, :]\n\n    for i in range(longitude.shape[1]-1):\n        for j in range(latitude.shape[0]):\n            _, _, dx[j, i] = g.inv(longitude[j, i], latitude[j, i],\n                                   longitude[j, i+1], latitude[j, i+1])\n    dx[:, i+1] = dx[:, i]\n\n    xdiff_sign = np.sign(longitude[0, 1]-longitude[0, 0])\n    ydiff_sign = np.sign(latitude[1, 0]-latitude[0, 0])\n    return xdiff_sign*dx*units.meter, ydiff_sign*dy*units.meter"
      ]
    },
    {
      "cell_type": "markdown",
      "metadata": {},
      "source": [
        "Data Aquisition\n---------------\n\n"
      ]
    },
    {
      "cell_type": "code",
      "execution_count": null,
      "metadata": {
        "collapsed": false
      },
      "outputs": [],
      "source": [
        "# Open the example netCDF data\nncss = NCSS('http://nomads.ncdc.noaa.gov/thredds/ncss/grid/namanl/'\n            '201604/20160416/namanl_218_20160416_1800_000.grb')\nnow = datetime.utcnow()\n\n# Query for Latest GFS Run\nhgt = ncss.query().time(datetime(2016, 4, 16, 18)).accept('netcdf')\nhgt.variables('Geopotential_height', 'u_wind', 'v_wind').add_lonlat()\n\n# Actually getting the data\nds = ncss.get_data(hgt)\n\nlon = ds.variables['lon'][:]\nlat = ds.variables['lat'][:]\n\ntimes = ds.variables[ds.variables['Geopotential_height'].dimensions[0]]\nvtime = num2date(times[:], units=times.units)\n\n\nlev_500 = np.where(ds.variables['isobaric1'][:] == 500)[0][0]\n\nhght_500 = ds.variables['Geopotential_height'][0, lev_500, :, :]\nhght_500 = ndimage.gaussian_filter(hght_500, sigma=3, order=0) * units.meter\n\nuwnd_500 = ds.variables['u_wind'][0, lev_500, :, :] * units('m/s')\nvwnd_500 = ds.variables['v_wind'][0, lev_500, :, :] * units('m/s')"
      ]
    },
    {
      "cell_type": "markdown",
      "metadata": {},
      "source": [
        "Begin Data Calculations\n-----------------------\n\n"
      ]
    },
    {
      "cell_type": "code",
      "execution_count": null,
      "metadata": {
        "collapsed": false
      },
      "outputs": [],
      "source": [
        "dx, dy = calc_dx_dy(lon, lat)\n\nf = coriolis_parameter(np.deg2rad(lat)).to(units('1/sec'))\n\navor = v_vorticity(uwnd_500.T, vwnd_500.T, dx.T, dy.T).T + f\n\navor = ndimage.gaussian_filter(avor, sigma=3, order=0) * units('1/s')\n\nvort_adv = advection(avor.T, [uwnd_500.T, vwnd_500.T], (dx.T, dy.T)).T*1e9"
      ]
    },
    {
      "cell_type": "markdown",
      "metadata": {},
      "source": [
        "Map Creation\n------------\n\n"
      ]
    },
    {
      "cell_type": "code",
      "execution_count": null,
      "metadata": {
        "collapsed": false
      },
      "outputs": [],
      "source": [
        "# Set up Coordinate System for Plot and Transforms\ndproj = ds.variables['Lambert_Conformal']\nglobe = ccrs.Globe(ellipse='sphere', semimajor_axis=dproj.earth_radius,\n                   semiminor_axis=dproj.earth_radius)\ndatacrs = ccrs.LambertConformal(central_latitude=dproj.latitude_of_projection_origin,\n                                central_longitude=dproj.longitude_of_central_meridian,\n                                standard_parallels=[dproj.standard_parallel],\n                                globe=globe)\nplotcrs = ccrs.LambertConformal(central_latitude=45., central_longitude=-100.,\n                                standard_parallels=[30, 60])\n\nfig = plt.figure(1, figsize=(14., 12))\ngs = gridspec.GridSpec(2, 1, height_ratios=[1, .02], bottom=.07, top=.99,\n                       hspace=0.01, wspace=0.01)\nax = plt.subplot(gs[0], projection=plotcrs)\n\n# Plot Titles\nplt.title(r'500-hPa Heights (m), AVOR$*10^5$ ($s^{-1}$), AVOR Adv$*10^8$ ($s^{-2}$)',\n          loc='left')\nplt.title('VALID: {}'.format(vtime[0]), loc='right')\n\n# Plot Background\nax.set_extent([235., 290., 20., 58.], ccrs.PlateCarree())\nax.coastlines('50m', edgecolor='black', linewidth=0.75)\nstates_provinces = cfeature.NaturalEarthFeature(\n        category='cultural',\n        name='admin_1_states_provinces_lakes',\n        scale='50m',\n        facecolor='none')\nax.add_feature(states_provinces, edgecolor='black', linewidth=.5)\n\n# Plot Height Contours\nclev500 = np.arange(5100, 6061, 60)\ncs = ax.contour(lon, lat, hght_500.m, clev500, colors='black', linewidths=1.0,\n                linestyles='solid', transform=ccrs.PlateCarree())\nplt.clabel(cs, fontsize=10, inline=1, inline_spacing=10, fmt='%i',\n           rightside_up=True, use_clabeltext=True)\n\n# Plot Absolute Vorticity Contours\nclevvort500 = np.arange(-9, 50, 5)\ncs2 = ax.contour(lon, lat, avor*10**5, clevvort500, colors='grey',\n                 linewidths=1.25, linestyles='dashed', transform=ccrs.PlateCarree())\nplt.clabel(cs2, fontsize=10, inline=1, inline_spacing=10, fmt='%i',\n           rightside_up=True, use_clabeltext=True)\n\n# Plot Colorfill of Vorticity Advection\nclev_avoradv = np.arange(-30, 31, 5)\ncf = ax.contourf(lon, lat, vort_adv.m, clev_avoradv[clev_avoradv != 0], extend='both',\n                 cmap='bwr', transform=ccrs.PlateCarree())\ncax = plt.subplot(gs[1])\ncb = plt.colorbar(cf, cax=cax, orientation='horizontal', extendrect='True', ticks=clev_avoradv)\ncb.set_label(r'$1/s^2$', size='large')\n\n# Plot Wind Barbs\n# Transform Vectors and plot wind barbs.\nax.barbs(lon, lat, uwnd_500.m, vwnd_500.m, length=6, regrid_shape=20,\n         pivot='middle', transform=ccrs.PlateCarree())\n\ngs.tight_layout(fig)\nplt.show()"
      ]
    }
  ],
  "metadata": {
    "kernelspec": {
      "display_name": "Python 3",
      "language": "python",
      "name": "python3"
    },
    "language_info": {
      "codemirror_mode": {
        "name": "ipython",
        "version": 3
      },
      "file_extension": ".py",
      "mimetype": "text/x-python",
      "name": "python",
      "nbconvert_exporter": "python",
      "pygments_lexer": "ipython3",
      "version": "3.6.1"
    }
  },
  "nbformat": 4,
  "nbformat_minor": 0
}